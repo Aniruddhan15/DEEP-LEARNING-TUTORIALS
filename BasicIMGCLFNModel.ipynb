{
  "nbformat": 4,
  "nbformat_minor": 0,
  "metadata": {
    "colab": {
      "provenance": []
    },
    "kernelspec": {
      "name": "python3",
      "display_name": "Python 3"
    },
    "language_info": {
      "name": "python"
    }
  },
  "cells": [
    {
      "cell_type": "code",
      "execution_count": 2,
      "metadata": {
        "colab": {
          "base_uri": "https://localhost:8080/"
        },
        "id": "JxKN4qSoRFQo",
        "outputId": "9de6e397-bb89-48a7-d30b-c15ebd1d12ba"
      },
      "outputs": [
        {
          "output_type": "stream",
          "name": "stdout",
          "text": [
            "the version of tensorflow I use here is:  2.14.0\n"
          ]
        }
      ],
      "source": [
        "import tensorflow as tf\n",
        "print(\"the version of tensorflow I use here is: \", tf.__version__)"
      ]
    },
    {
      "cell_type": "code",
      "source": [
        "mnist = tf.keras.datasets.mnist"
      ],
      "metadata": {
        "id": "k1H3gXLwSQjy"
      },
      "execution_count": 3,
      "outputs": []
    },
    {
      "cell_type": "code",
      "source": [
        "(x_train,y_train), (x_test,y_test) = mnist.load_data()\n",
        "x_train, x_test = x_train/255.0, x_test/255.0"
      ],
      "metadata": {
        "colab": {
          "base_uri": "https://localhost:8080/"
        },
        "id": "woFJYyQoTbB1",
        "outputId": "9e2cc4ae-45c3-42e5-d77f-1bed260a48b8"
      },
      "execution_count": 4,
      "outputs": [
        {
          "output_type": "stream",
          "name": "stdout",
          "text": [
            "Downloading data from https://storage.googleapis.com/tensorflow/tf-keras-datasets/mnist.npz\n",
            "11490434/11490434 [==============================] - 0s 0us/step\n"
          ]
        }
      ]
    },
    {
      "cell_type": "code",
      "source": [
        "model = tf.keras.models.Sequential([\n",
        "  tf.keras.layers.Flatten(input_shape=(28, 28)),\n",
        "  tf.keras.layers.Dense(128, activation='relu'),\n",
        "  tf.keras.layers.Dropout(0.2),\n",
        "  tf.keras.layers.Dense(10)\n",
        "])"
      ],
      "metadata": {
        "id": "pifOAXWWVjy8"
      },
      "execution_count": 5,
      "outputs": []
    },
    {
      "cell_type": "code",
      "source": [
        "predictions = model(x_train[:1]).numpy()\n",
        "predictions"
      ],
      "metadata": {
        "colab": {
          "base_uri": "https://localhost:8080/"
        },
        "id": "abq8m1bPXudV",
        "outputId": "727a812f-e0d1-409f-fa25-fea72ee9e4db"
      },
      "execution_count": 6,
      "outputs": [
        {
          "output_type": "execute_result",
          "data": {
            "text/plain": [
              "array([[-0.4829082 ,  0.18610129, -0.38242856,  0.9691548 ,  0.3193532 ,\n",
              "        -0.22171843,  0.16276509, -0.3652619 ,  0.16414505,  0.49014154]],\n",
              "      dtype=float32)"
            ]
          },
          "metadata": {},
          "execution_count": 6
        }
      ]
    },
    {
      "cell_type": "code",
      "source": [
        "tf.nn.softmax(predictions).numpy()"
      ],
      "metadata": {
        "colab": {
          "base_uri": "https://localhost:8080/"
        },
        "id": "_Bg1YHXvYq83",
        "outputId": "c7f20c18-8f06-4968-d4ee-dd60da4fa82c"
      },
      "execution_count": 7,
      "outputs": [
        {
          "output_type": "execute_result",
          "data": {
            "text/plain": [
              "array([[0.05142182, 0.10039094, 0.05685716, 0.2196698 , 0.11470045,\n",
              "        0.06676991, 0.09807533, 0.05784164, 0.09821077, 0.13606222]],\n",
              "      dtype=float32)"
            ]
          },
          "metadata": {},
          "execution_count": 7
        }
      ]
    },
    {
      "cell_type": "code",
      "source": [
        "loss_fn = tf.keras.losses.SparseCategoricalCrossentropy(from_logits=True)"
      ],
      "metadata": {
        "id": "mFD1x6zGYuNd"
      },
      "execution_count": 8,
      "outputs": []
    },
    {
      "cell_type": "code",
      "source": [
        "loss_fn(y_train[:1], predictions).numpy()"
      ],
      "metadata": {
        "colab": {
          "base_uri": "https://localhost:8080/"
        },
        "id": "osGuX7gsbe0M",
        "outputId": "630d91c7-84b4-4c01-a75a-1f3037802c8b"
      },
      "execution_count": 9,
      "outputs": [
        {
          "output_type": "execute_result",
          "data": {
            "text/plain": [
              "2.706503"
            ]
          },
          "metadata": {},
          "execution_count": 9
        }
      ]
    },
    {
      "cell_type": "code",
      "source": [
        "model.compile(optimizer='adam',\n",
        "              loss=loss_fn,\n",
        "              metrics=['accuracy'])"
      ],
      "metadata": {
        "id": "pDkPT2-ybqGv"
      },
      "execution_count": 10,
      "outputs": []
    },
    {
      "cell_type": "code",
      "source": [
        "model.fit(x_train, y_train, epochs=12)"
      ],
      "metadata": {
        "colab": {
          "base_uri": "https://localhost:8080/"
        },
        "id": "sfSjKA5IbxU7",
        "outputId": "4d3f95e8-196f-43f3-b170-db3daf1f0861"
      },
      "execution_count": 11,
      "outputs": [
        {
          "output_type": "stream",
          "name": "stdout",
          "text": [
            "Epoch 1/12\n",
            "1875/1875 [==============================] - 5s 2ms/step - loss: 0.3013 - accuracy: 0.9125\n",
            "Epoch 2/12\n",
            "1875/1875 [==============================] - 5s 3ms/step - loss: 0.1464 - accuracy: 0.9564\n",
            "Epoch 3/12\n",
            "1875/1875 [==============================] - 5s 3ms/step - loss: 0.1079 - accuracy: 0.9671\n",
            "Epoch 4/12\n",
            "1875/1875 [==============================] - 4s 2ms/step - loss: 0.0873 - accuracy: 0.9734\n",
            "Epoch 5/12\n",
            "1875/1875 [==============================] - 5s 3ms/step - loss: 0.0754 - accuracy: 0.9765\n",
            "Epoch 6/12\n",
            "1875/1875 [==============================] - 4s 2ms/step - loss: 0.0641 - accuracy: 0.9803\n",
            "Epoch 7/12\n",
            "1875/1875 [==============================] - 4s 2ms/step - loss: 0.0580 - accuracy: 0.9814\n",
            "Epoch 8/12\n",
            "1875/1875 [==============================] - 5s 3ms/step - loss: 0.0515 - accuracy: 0.9830\n",
            "Epoch 9/12\n",
            "1875/1875 [==============================] - 4s 2ms/step - loss: 0.0480 - accuracy: 0.9841\n",
            "Epoch 10/12\n",
            "1875/1875 [==============================] - 4s 2ms/step - loss: 0.0443 - accuracy: 0.9854\n",
            "Epoch 11/12\n",
            "1875/1875 [==============================] - 5s 3ms/step - loss: 0.0412 - accuracy: 0.9863\n",
            "Epoch 12/12\n",
            "1875/1875 [==============================] - 4s 2ms/step - loss: 0.0399 - accuracy: 0.9863\n"
          ]
        },
        {
          "output_type": "execute_result",
          "data": {
            "text/plain": [
              "<keras.src.callbacks.History at 0x7f1973793700>"
            ]
          },
          "metadata": {},
          "execution_count": 11
        }
      ]
    },
    {
      "cell_type": "code",
      "source": [
        "model.evaluate(x_test,  y_test, verbose=2)"
      ],
      "metadata": {
        "colab": {
          "base_uri": "https://localhost:8080/"
        },
        "id": "atFwy41tb4_B",
        "outputId": "dc32acbd-d73d-4021-a1e2-ba236a7b23ea"
      },
      "execution_count": 12,
      "outputs": [
        {
          "output_type": "stream",
          "name": "stdout",
          "text": [
            "313/313 - 1s - loss: 0.0770 - accuracy: 0.9798 - 756ms/epoch - 2ms/step\n"
          ]
        },
        {
          "output_type": "execute_result",
          "data": {
            "text/plain": [
              "[0.07701977342367172, 0.9797999858856201]"
            ]
          },
          "metadata": {},
          "execution_count": 12
        }
      ]
    },
    {
      "cell_type": "code",
      "source": [
        "probability_model = tf.keras.Sequential([\n",
        "  model,\n",
        "  tf.keras.layers.Softmax()\n",
        "])"
      ],
      "metadata": {
        "id": "x3AIVl-IcTUj"
      },
      "execution_count": 13,
      "outputs": []
    },
    {
      "cell_type": "code",
      "source": [
        "probability_model(x_test[:5])"
      ],
      "metadata": {
        "colab": {
          "base_uri": "https://localhost:8080/"
        },
        "id": "v6Bvl90Zcjcs",
        "outputId": "a3fac7d1-43b1-433d-c81c-9a043ae51663"
      },
      "execution_count": 14,
      "outputs": [
        {
          "output_type": "execute_result",
          "data": {
            "text/plain": [
              "<tf.Tensor: shape=(5, 10), dtype=float32, numpy=\n",
              "array([[8.6470961e-12, 9.4093500e-12, 9.0840541e-07, 3.2233179e-06,\n",
              "        1.5071138e-17, 1.4657996e-09, 1.7017990e-19, 9.9999547e-01,\n",
              "        1.4649513e-11, 3.3916933e-07],\n",
              "       [1.1942204e-13, 1.3470458e-06, 9.9999857e-01, 2.0639449e-08,\n",
              "        1.3499159e-25, 1.1156702e-08, 6.5778823e-12, 8.7735951e-17,\n",
              "        1.8898296e-11, 3.2998406e-20],\n",
              "       [1.8703714e-09, 9.9981791e-01, 7.5417609e-07, 2.3571013e-07,\n",
              "        1.6970142e-06, 4.4520775e-08, 8.6403571e-07, 1.7086776e-04,\n",
              "        7.6147871e-06, 8.5484206e-09],\n",
              "       [9.9997652e-01, 2.1170101e-12, 8.4762914e-06, 3.4153927e-10,\n",
              "        2.5685723e-13, 1.4467645e-06, 9.0366523e-09, 3.7374616e-07,\n",
              "        2.3839816e-11, 1.3237324e-05],\n",
              "       [9.0425791e-09, 4.8783481e-16, 4.9186442e-09, 5.7317513e-13,\n",
              "        9.9856937e-01, 2.7411545e-16, 2.1321951e-10, 2.2352579e-07,\n",
              "        1.9151117e-10, 1.4304029e-03]], dtype=float32)>"
            ]
          },
          "metadata": {},
          "execution_count": 14
        }
      ]
    },
    {
      "cell_type": "code",
      "source": [],
      "metadata": {
        "id": "atBwZO3FcoXF"
      },
      "execution_count": null,
      "outputs": []
    }
  ]
}